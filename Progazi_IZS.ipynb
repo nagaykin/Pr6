{
 "cells": [
  {
   "cell_type": "markdown",
   "metadata": {},
   "source": [
    "## Загрузка и обработка данных по ИЖС"
   ]
  },
  {
   "cell_type": "code",
   "execution_count": 44,
   "metadata": {},
   "outputs": [],
   "source": [
    "import json"
   ]
  },
  {
   "cell_type": "code",
   "execution_count": 80,
   "metadata": {},
   "outputs": [
    {
     "name": "stdout",
     "output_type": "stream",
     "text": [
      "Период\n",
      "2020-07-31 00:00:00.000\n",
      "2020-08-31 00:00:00.000\n"
     ]
    }
   ],
   "source": [
    "with open('Sale_IZS.csv','r', encoding=\"utf-8\") as f:\n",
    "     i=0\n",
    "     #print ([next(f) for x in range(10)])\n",
    "     for line in f:\n",
    "\n",
    "        line = line.strip('\\ufeff /n').split(';')\n",
    "        #json.loads(line)[-1]\n",
    "        if i>2:\n",
    "            break\n",
    "        i+=1\n",
    "        type(line)\n",
    "        print(line[0])\n",
    "        \n",
    "\n",
    "   "
   ]
  },
  {
   "cell_type": "code",
   "execution_count": null,
   "metadata": {},
   "outputs": [],
   "source": []
  },
  {
   "cell_type": "code",
   "execution_count": null,
   "metadata": {},
   "outputs": [],
   "source": []
  }
 ],
 "metadata": {
  "kernelspec": {
   "display_name": "Python 3",
   "language": "python",
   "name": "python3"
  },
  "language_info": {
   "codemirror_mode": {
    "name": "ipython",
    "version": 3
   },
   "file_extension": ".py",
   "mimetype": "text/x-python",
   "name": "python",
   "nbconvert_exporter": "python",
   "pygments_lexer": "ipython3",
   "version": "3.8.3"
  }
 },
 "nbformat": 4,
 "nbformat_minor": 4
}
