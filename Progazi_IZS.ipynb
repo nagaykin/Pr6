{
 "cells": [
  {
   "cell_type": "markdown",
   "metadata": {},
   "source": [
    "## Загрузка и обработка данных по ИЖС"
   ]
  },
  {
   "cell_type": "code",
   "execution_count": 44,
   "metadata": {},
   "outputs": [],
   "source": [
    "import json"
   ]
  },
  {
   "cell_type": "code",
   "execution_count": 87,
   "metadata": {},
   "outputs": [],
   "source": [
    "def get_load_file(file_name):\n",
    "    with open(file_name,'r', encoding=\"utf-8\") as f:\n",
    "        i=0\n",
    "        #print ([next(f) for x in range(10)])\n",
    "        for line in f:\n",
    "\n",
    "            line = line.strip('\\ufeff \\n').split(';')\n",
    "            #json.loads(line)[-1]\n",
    "            if i>2:\n",
    "                break\n",
    "            i+=1\n",
    "            print(type(line))\n",
    "            print(line)\n",
    "        return\n",
    "\n",
    "   "
   ]
  },
  {
   "cell_type": "code",
   "execution_count": 88,
   "metadata": {},
   "outputs": [
    {
     "name": "stdout",
     "output_type": "stream",
     "text": [
      "<class 'list'>\n",
      "['Период', 'Дата', 'Год', 'Месяц_число', 'Месяц', 'PHONE', 'SOURCE_ID', 'SALE_DATE', 'IS_REACTIVATION', 'WFM_TASK_NUMBER', 'SOURCE_SERVICE_TYPE', 'SERVICE_TYPE', '2Play', 'SALE_CHANNEL_NAME', 'SALE_CHANNEL_GROUP_NAME', 'ASRZ_PARENT_ORDER_ID', 'SALE_TP_NAME', 'SALE_TP_PRICE', 'Номер_телефона_MVNO', 'Адрес', 'Регион', 'ID_Дома', 'ID_Адреса', 'MNP', 'Компания_оператор', 'Тип_застройки', 'Дата_загрузки']\n",
      "<class 'list'>\n",
      "['2020-07-31 00:00:00.000', '2020-07-31', '2020', '7', 'Июль', '70508045788', '44953932', '2020-07-04', 'Нет', '451013118', 'Телевидение FTTB', 'Телевидение', 'NULL', 'Офисы МГТС', 'ЦПиО Жуковский', '44910096', 'ТВ (кредит) - новый МУЛЬТИРУМ', '0.00', 'NULL', 'Кратово, Гоголя ул., д.48 (Кратово) кв.10002', 'МО', '1452968', '6125819', 'NULL', 'МГТС', 'Индивидуальная', '2020-09-07 13:09:11.237']\n",
      "<class 'list'>\n",
      "['2020-08-31 00:00:00.000', '2020-08-31', '2020', '8', 'Август', '74956340060', '17287754', '2020-08-18', 'Нет', '307868927', 'IPTV', 'Телевидение', 'NULL', 'WEB-сайт', 'WEB-сайт - Компания', '24904670', 'ТВ для МГТС (кредитный) - Базовый первый', '160.00', 'NULL', 'Таганьково, Гп-2 территория, д.4 (Таганьково) кв.10001', 'МО', '319091', '4784837', 'NULL', 'МГТС', 'Индивидуальная', '2020-09-07 12:13:19.257']\n"
     ]
    }
   ],
   "source": [
    "get_load_file('Sale_IZS.csv')"
   ]
  },
  {
   "cell_type": "code",
   "execution_count": null,
   "metadata": {},
   "outputs": [],
   "source": []
  }
 ],
 "metadata": {
  "kernelspec": {
   "display_name": "Python 3",
   "language": "python",
   "name": "python3"
  },
  "language_info": {
   "codemirror_mode": {
    "name": "ipython",
    "version": 3
   },
   "file_extension": ".py",
   "mimetype": "text/x-python",
   "name": "python",
   "nbconvert_exporter": "python",
   "pygments_lexer": "ipython3",
   "version": "3.8.3"
  }
 },
 "nbformat": 4,
 "nbformat_minor": 4
}
