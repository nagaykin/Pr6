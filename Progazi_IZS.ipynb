{
 "cells": [
  {
   "cell_type": "markdown",
   "metadata": {},
   "source": [
    "## Загрузка и обработка данных по ИЖС"
   ]
  },
  {
   "cell_type": "code",
   "execution_count": 44,
   "metadata": {},
   "outputs": [],
   "source": []
  },
  {
   "cell_type": "code",
   "execution_count": 138,
   "metadata": {},
   "outputs": [],
   "source": [
    "def get_load_file(file_name):\n",
    "    from datetime import datetime\n",
    "    with open(file_name,'r', encoding=\"utf-8\") as f:\n",
    "        i=0\n",
    "        #print ([next(f) for x in range(10)])\n",
    "        for line in f:\n",
    "\n",
    "            line = line.strip('\\ufeff \\n').split(';')\n",
    "            if i>0:\n",
    "                #print('текст',line[0])\n",
    "                print(datetime.strptime(line[0][0:18],'%Y-%m-%d %H:%M:%S'))\n",
    "                print(type(datetime.strptime(line[0][0:18],'%Y-%m-%d %H:%M:%S')))\n",
    "            #json.loads(line)[-1]\n",
    "            if i>2:\n",
    "                break\n",
    "            i+=1\n",
    "            #print(type(line))\n",
    "            #print(line)\n",
    "           \n",
    "        return\n",
    "\n",
    "   "
   ]
  },
  {
   "cell_type": "code",
   "execution_count": 139,
   "metadata": {},
   "outputs": [
    {
     "name": "stdout",
     "output_type": "stream",
     "text": [
      "2020-07-31 00:00:00\n",
      "<class 'datetime.datetime'>\n",
      "2020-08-31 00:00:00\n",
      "<class 'datetime.datetime'>\n",
      "2020-08-31 00:00:00\n",
      "<class 'datetime.datetime'>\n"
     ]
    }
   ],
   "source": [
    "get_load_file('Sale_IZS.csv')"
   ]
  },
  {
   "cell_type": "code",
   "execution_count": 105,
   "metadata": {},
   "outputs": [
    {
     "name": "stdout",
     "output_type": "stream",
     "text": [
      "['user', 'id']\n",
      "dict_keys(['user', 'id'])\n",
      "{'user': 'user1', 'id': 'id1'}\n"
     ]
    }
   ],
   "source": [
    "import json\n",
    "dict_=[]\n",
    "fline = '{\"user\": \"user1\", \"id\": \"id1\"}'\n",
    "fline=json.loads(fline) \t#  {‘user’: ‘user1’, ‘id’: ‘id1’}\n",
    "dict_=list(fline.keys())\n",
    "print (dict_)\n",
    "print (fline.keys())\n",
    "print (dict(fline))"
   ]
  },
  {
   "cell_type": "code",
   "execution_count": null,
   "metadata": {},
   "outputs": [],
   "source": []
  }
 ],
 "metadata": {
  "kernelspec": {
   "display_name": "Python 3",
   "language": "python",
   "name": "python3"
  },
  "language_info": {
   "codemirror_mode": {
    "name": "ipython",
    "version": 3
   },
   "file_extension": ".py",
   "mimetype": "text/x-python",
   "name": "python",
   "nbconvert_exporter": "python",
   "pygments_lexer": "ipython3",
   "version": "3.8.3"
  }
 },
 "nbformat": 4,
 "nbformat_minor": 4
}
